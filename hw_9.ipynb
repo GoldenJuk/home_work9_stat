{
 "cells": [
  {
   "cell_type": "markdown",
   "id": "6cdf1ecd",
   "metadata": {},
   "source": [
    "**Задача 1**\n",
    "\n",
    "Даны значения величины заработной платы заемщиков банка (zp) и значения их\n",
    "поведенческого кредитного скоринга (ks): zp = [35, 45, 190, 200, 40, 70, 54, 150, 120, 110],\n",
    "ks = [401, 574, 874, 919, 459, 739, 653, 902, 746, 832]. Используя математические\n",
    "операции, посчитать коэффициенты линейной регрессии, приняв за X заработную плату\n",
    "(то есть, zp - признак), а за y - значения скорингового балла (то есть, ks - целевая\n",
    "переменная). Произвести расчет как с использованием intercept, так и без."
   ]
  },
  {
   "cell_type": "code",
   "execution_count": 37,
   "id": "4aaa5033",
   "metadata": {},
   "outputs": [
    {
     "name": "stdout",
     "output_type": "stream",
     "text": [
      "Коэффициенты линейной регрессии с использованием intercept: a = 444.17735732435955; b = 2.6205388824027653\n"
     ]
    }
   ],
   "source": [
    "import numpy as np\n",
    "import matplotlib.pyplot as plt\n",
    "\n",
    "zp = np.array([35, 45, 190, 200, 40, 70, 54, 150, 120, 110])\n",
    "ks = np.array([401, 574, 874, 919, 459, 739, 653, 902, 746, 832])\n",
    "\n",
    "x_average = sum(zp) / len(zp)\n",
    "y_average = sum(ks) / len(ks)\n",
    "\n",
    "b_intercept = np.sum((zp - x_average) * (ks - y_average)) / np.sum((zp - x_average) ** 2)\n",
    "a_intercept = y_average - b_intercept * x_average\n",
    "\n",
    "\n",
    "print(f'Коэффициенты линейной регрессии с использованием intercept: a = {a_intercept}; b = {b_intercept}')"
   ]
  },
  {
   "cell_type": "code",
   "execution_count": 38,
   "id": "adf737ef",
   "metadata": {},
   "outputs": [
    {
     "name": "stdout",
     "output_type": "stream",
     "text": [
      "Коэффициент линейной регрессии без использования intercept: b = 5.889820420132689\n"
     ]
    }
   ],
   "source": [
    "b_not_intercept = np.sum(zp * ks) / np.sum(zp ** 2)\n",
    "print(f'Коэффициент линейной регрессии без использования intercept: b = {b_not_intercept}')"
   ]
  },
  {
   "cell_type": "code",
   "execution_count": 39,
   "id": "e3f2665e",
   "metadata": {},
   "outputs": [
    {
     "data": {
      "image/png": "[encoded data removed]",
      "text/plain": [
       "<Figure size 640x480 with 1 Axes>"
      ]
     },
     "metadata": {},
     "output_type": "display_data"
    }
   ],
   "source": [
    "plt.scatter(zp, ks)\n",
    "plt.plot(zp, a_intercept + b_intercept * zp, color='orange')\n",
    "plt.xlabel('Заработная плата заемщиков банка')\n",
    "plt.ylabel('Поведенческий кредитный скоринг')\n",
    "plt.show()"
   ]
  },
  {
   "cell_type": "markdown",
   "id": "b126908b",
   "metadata": {},
   "source": [
    "---"
   ]
  },
  {
   "cell_type": "markdown",
   "id": "048aefc7",
   "metadata": {},
   "source": [
    "**Задача 2**\n",
    "\n",
    "Посчитать коэффициент линейной регрессии при заработной плате (zp), используя\n",
    "градиентный спуск (без intercept)."
   ]
  },
  {
   "cell_type": "code",
   "execution_count": 47,
   "id": "3382acba",
   "metadata": {},
   "outputs": [
    {
     "name": "stdout",
     "output_type": "stream",
     "text": [
      "Iteration: 0, MSE: 493237.721, b: 0.260\n",
      "Iteration: 100, MSE: 58151.318, b: 5.545\n",
      "Iteration: 200, MSE: 56522.976, b: 5.869\n",
      "Iteration: 300, MSE: 56516.881, b: 5.889\n",
      "Iteration: 400, MSE: 56516.859, b: 5.890\n",
      "Iteration: 500, MSE: 56516.858, b: 5.890\n",
      "Iteration: 600, MSE: 56516.858, b: 5.890\n"
     ]
    }
   ],
   "source": [
    "import numpy as np\n",
    "\n",
    "zp = np.array([35, 45, 190, 200, 40, 70, 54, 150, 120, 110])\n",
    "ks = np.array([401, 574, 874, 919, 459, 739, 653, 902, 746, 832])\n",
    "n = len(zp)\n",
    "alpha = 1e-6\n",
    "b = 0.1  \n",
    "  \n",
    "iterations = 700\n",
    "\n",
    "def mse_(b, y = ks, x = zp, n = n):\n",
    "    return np.sum((b * x - y)**2) / n\n",
    "\n",
    "\n",
    "for i in range(iterations):\n",
    "    b -= alpha * (2/n) * np.sum((b * zp - ks) * zp)     \n",
    "    if i % 100 == 0:\n",
    "        print(\"Iteration: {0}, MSE: {1:.3f}, b: {2:.3f}\".format(i, mse_(b), b))"
   ]
  },
  {
   "cell_type": "markdown",
   "id": "085d23f4",
   "metadata": {},
   "source": [
    "*Коэффициент линейной регрессии* при заработной плате (zp), используя\n",
    "градиентный спуск (без intercept) = 5,890"
   ]
  },
  {
   "cell_type": "markdown",
   "id": "c1157c02",
   "metadata": {},
   "source": [
    "---"
   ]
  },
  {
   "cell_type": "markdown",
   "id": "c9fb9d51",
   "metadata": {},
   "source": [
    "**Задача 3 (Дополнительно)**\n",
    "\n",
    "Произвести вычисления как в пункте 2, но с вычислением intercept. Учесть, что\n",
    "изменение коэффициентов должно производиться\n",
    "на каждом шаге одновременно (то есть изменение одного коэффициента не должно\n",
    "влиять на изменение другого во время одной итерации)."
   ]
  },
  {
   "cell_type": "code",
   "execution_count": 83,
   "id": "f2e94fff",
   "metadata": {},
   "outputs": [
    {
     "name": "stdout",
     "output_type": "stream",
     "text": [
      "Iteration: 0, koef: [0.10139932 0.2595078 ], mse: 10115122893.904001\n",
      "Iteration: 1000, koef: [0.3680363 5.8871717], mse: 9979756301.853184\n",
      "Iteration: 2000, koef: [0.59312476 5.88551495], mse: 9979758650.835354\n",
      "Iteration: 3000, koef: [0.81809907 5.88385904], mse: 9979760998.651962\n",
      "Iteration: 4000, koef: [1.04295927 5.88220397], mse: 9979763345.303478\n",
      "Iteration: 5000, koef: [1.26770543 5.88054974], mse: 9979765690.790466\n",
      "Iteration: 6000, koef: [1.49233761 5.87889635], mse: 9979768035.113491\n",
      "Iteration: 7000, koef: [1.71685585 5.8772438 ], mse: 9979770378.27312\n",
      "Iteration: 8000, koef: [1.94126023 5.87559208], mse: 9979772720.269909\n",
      "Iteration: 9000, koef: [2.1655508 5.8739412], mse: 9979775061.104431\n",
      "Коэффициенты линейной регрессии: a = 2.39, b = 5.87\n"
     ]
    }
   ],
   "source": [
    "import numpy as np\n",
    "\n",
    "def mse(y, y_pred):\n",
    "    return np.mean((y - y_pred)**2)\n",
    " \n",
    "zp = np.array([35, 45, 190, 200, 40, 70, 54, 150, 120, 110])\n",
    "ks = np.array([401, 574, 874, 919, 459, 739, 653, 902, 746, 832])\n",
    "\n",
    "alpha = 1e-6\n",
    "koef = np.array([0.1, 0.1])\n",
    "n = len(zp)\n",
    "for i in range(10000):\n",
    "    y_pred = koef[0] + koef[1]*zp\n",
    "    err = mse_(ks, y_pred)\n",
    "    koef -= alpha * (1/n * 2 * np.array([np.sum(y_pred - ks), np.sum((y_pred - ks)*zp)]))\n",
    "    if i % 1000 == 0:\n",
    "        print('Iteration: {i}, koef: {koef}, mse: {err}'.format(i=i, koef=koef, err=err))\n",
    "    if err < 50:\n",
    "        break\n",
    "print(\"Коэффициенты линейной регрессии: a = {:.2f}, b = {:.2f}\".format(koef[0], koef[1]))"
   ]
  },
  {
   "cell_type": "code",
   "execution_count": 87,
   "id": "ba86a5a7",
   "metadata": {},
   "outputs": [
    {
     "name": "stdout",
     "output_type": "stream",
     "text": [
      "Коэффициент пересечения (a): 444.1773573243596\n",
      "Коэффициент наклона (b): 2.620538882402765\n"
     ]
    }
   ],
   "source": [
    "import numpy as np\n",
    "from sklearn.linear_model import LinearRegression\n",
    "\n",
    "zp = np.array([35, 45, 190, 200, 40, 70, 54, 150, 120, 110]).reshape((-1, 1))\n",
    "ks = np.array([401, 574, 874, 919, 459, 739, 653, 902, 746, 832])\n",
    "\n",
    "model = LinearRegression().fit(zp, ks)\n",
    "print('Коэффициент пересечения (a):', model.intercept_)\n",
    "print('Коэффициент наклона (b):', model.coef_[0])"
   ]
  },
  {
   "cell_type": "code",
   "execution_count": null,
   "id": "3ed7e9ed",
   "metadata": {},
   "outputs": [],
   "source": []
  }
 ],
 "metadata": {
  "kernelspec": {
   "display_name": "Python 3 (ipykernel)",
   "language": "python",
   "name": "python3"
  },
  "language_info": {
   "codemirror_mode": {
    "name": "ipython",
    "version": 3
   },
   "file_extension": ".py",
   "mimetype": "text/x-python",
   "name": "python",
   "nbconvert_exporter": "python",
   "pygments_lexer": "ipython3",
   "version": "3.9.13"
  }
 },
 "nbformat": 4,
 "nbformat_minor": 5
}
